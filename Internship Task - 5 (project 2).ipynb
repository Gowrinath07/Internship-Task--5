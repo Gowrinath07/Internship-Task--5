{
  "nbformat": 4,
  "nbformat_minor": 0,
  "metadata": {
    "colab": {
      "provenance": []
    },
    "kernelspec": {
      "name": "python3",
      "display_name": "Python 3"
    },
    "language_info": {
      "name": "python"
    }
  },
  "cells": [
    {
      "cell_type": "code",
      "source": [
        "!pip install nltk\n",
        "import nltk\n",
        "nltk.download('punkt_tab')"
      ],
      "metadata": {
        "colab": {
          "base_uri": "https://localhost:8080/"
        },
        "id": "eIMFD6f21f2c",
        "outputId": "3a94a53d-5379-4cff-9052-aad47d4053a5"
      },
      "execution_count": 5,
      "outputs": [
        {
          "output_type": "stream",
          "name": "stdout",
          "text": [
            "Requirement already satisfied: nltk in /usr/local/lib/python3.11/dist-packages (3.9.1)\n",
            "Requirement already satisfied: click in /usr/local/lib/python3.11/dist-packages (from nltk) (8.1.8)\n",
            "Requirement already satisfied: joblib in /usr/local/lib/python3.11/dist-packages (from nltk) (1.4.2)\n",
            "Requirement already satisfied: regex>=2021.8.3 in /usr/local/lib/python3.11/dist-packages (from nltk) (2024.11.6)\n",
            "Requirement already satisfied: tqdm in /usr/local/lib/python3.11/dist-packages (from nltk) (4.67.1)\n"
          ]
        },
        {
          "output_type": "stream",
          "name": "stderr",
          "text": [
            "[nltk_data] Downloading package punkt_tab to /root/nltk_data...\n",
            "[nltk_data]   Unzipping tokenizers/punkt_tab.zip.\n"
          ]
        },
        {
          "output_type": "execute_result",
          "data": {
            "text/plain": [
              "True"
            ]
          },
          "metadata": {},
          "execution_count": 5
        }
      ]
    },
    {
      "source": [
        "import pandas as pd\n",
        "import nltk\n",
        "from nltk.corpus import stopwords\n",
        "from nltk.tokenize import word_tokenize\n",
        "from nltk.stem import WordNetLemmatizer\n",
        "from sklearn.feature_extraction.text import TfidfVectorizer\n",
        "from sklearn.model_selection import train_test_split\n",
        "from sklearn.linear_model import LogisticRegression\n",
        "from sklearn.metrics import accuracy_score, precision_score, recall_score, f1_score\n",
        "\n",
        "# Download required NLTK data\n",
        "nltk.download('punkt')\n",
        "nltk.download('stopwords')\n",
        "nltk.download('wordnet')\n",
        "\n",
        "\n",
        "# Load the dataset\n",
        "try:\n",
        "    df = pd.read_csv(\"reviews.csv\")\n",
        "except FileNotFoundError:\n",
        "    print(\"Error: 'reviews.csv' not found. Please ensure the file is present in the current directory.\")\n",
        "    # Instead of exiting, assign an empty dataframe to df to allow the code to continue\n",
        "    df = pd.DataFrame(columns=['Review Text', 'Sentiment'])\n",
        "    # You might want to handle this empty DataFrame appropriately in the subsequent steps\n",
        "\n",
        "# Preprocessing\n",
        "stop_words = set(stopwords.words('english'))\n",
        "lemmatizer = WordNetLemmatizer()\n",
        "\n",
        "def preprocess_text(text):\n",
        "    # Check if text is a string to avoid AttributeError on NaN values\n",
        "    if isinstance(text, str):\n",
        "        tokens = word_tokenize(text.lower())\n",
        "        tokens = [lemmatizer.lemmatize(token) for token in tokens if token.isalnum() and token not in stop_words]\n",
        "        return \" \".join(tokens)\n",
        "    else:\n",
        "        return \"\"  # Return empty string for non-string values\n",
        "\n",
        "\n",
        "df['Processed_Review'] = df['Review Text'].apply(preprocess_text)\n",
        "\n",
        "# Check if 'Processed_Review' column is empty after preprocessing\n",
        "# If empty, provide feedback and skip model training and evaluation\n",
        "if df['Processed_Review'].empty:\n",
        "    print(\"Error: The 'Processed_Review' column is empty after preprocessing. Check your preprocessing steps or provide data in reviews.csv.\")\n",
        "else:\n",
        "    # Text Vectorization\n",
        "    vectorizer = TfidfVectorizer()\n",
        "    X = vectorizer.fit_transform(df['Processed_Review'])\n",
        "    y = df['Sentiment']\n",
        "\n",
        "    # Model Training\n",
        "    X_train, X_test, y_train, y_test = train_test_split(X, y, test_size=0.2, random_state=42)\n",
        "    model = LogisticRegression()\n",
        "    model.fit(X_train, y_train)\n",
        "\n",
        "    # Model Evaluation\n",
        "    y_pred = model.predict(X_test)\n",
        "    accuracy = accuracy_score(y_test, y_pred)\n",
        "    # Assuming 'positive' is the positive class for precision, recall, and F1-score\n",
        "    # If your dataset has different labels, update 'pos_label' accordingly\n",
        "    precision = precision_score(y_test, y_pred, pos_label='positive')\n",
        "    recall = recall_score(y_test, y_pred, pos_label='positive')\n",
        "    f1 = f1_score(y_test, y_pred, pos_label='positive')\n",
        "\n",
        "    print(f\"Accuracy: {accuracy}\")\n",
        "    print(f\"Precision: {precision}\")\n",
        "    print(f\"Recall: {recall}\")\n",
        "    print(f\"F1-Score: {f1}\")\n",
        "\n",
        "    # Insights (Example - You can expand this)\n",
        "    # Reset index to align predictions with original DataFrame\n",
        "    y_test_reset = y_test.reset_index(drop=True)\n",
        "    correct_predictions = df.iloc[y_test.index][df.iloc[y_test.index]['Sentiment'] == y_pred]\n",
        "    incorrect_predictions = df.iloc[y_test.index][df.iloc[y_test.index]['Sentiment'] != y_pred]\n",
        "    print(\"\\nCorrect Predictions:\")\n",
        "    print(correct_predictions.head())\n",
        "    print(\"\\nIncorrect Predictions:\")\n",
        "    print(incorrect_predictions.head())"
      ],
      "cell_type": "code",
      "metadata": {
        "colab": {
          "base_uri": "https://localhost:8080/"
        },
        "id": "DRUONC2n0gdF",
        "outputId": "173d1c3a-f4f1-497e-a0d8-88a2a17afb85"
      },
      "execution_count": 7,
      "outputs": [
        {
          "output_type": "stream",
          "name": "stdout",
          "text": [
            "Accuracy: 1.0\n",
            "Precision: 1.0\n",
            "Recall: 1.0\n",
            "F1-Score: 1.0\n",
            "\n",
            "Correct Predictions:\n",
            "                                   Review Text Sentiment  \\\n",
            "8  Great value for the price. Works perfectly!  positive   \n",
            "1       Terrible quality. Broke within a week.  negative   \n",
            "\n",
            "                     Processed_Review  \n",
            "8    great value price work perfectly  \n",
            "1  terrible quality broke within week  \n",
            "\n",
            "Incorrect Predictions:\n",
            "Empty DataFrame\n",
            "Columns: [Review Text, Sentiment, Processed_Review]\n",
            "Index: []\n"
          ]
        },
        {
          "output_type": "stream",
          "name": "stderr",
          "text": [
            "[nltk_data] Downloading package punkt to /root/nltk_data...\n",
            "[nltk_data]   Package punkt is already up-to-date!\n",
            "[nltk_data] Downloading package stopwords to /root/nltk_data...\n",
            "[nltk_data]   Package stopwords is already up-to-date!\n",
            "[nltk_data] Downloading package wordnet to /root/nltk_data...\n",
            "[nltk_data]   Package wordnet is already up-to-date!\n"
          ]
        }
      ]
    }
  ]
}